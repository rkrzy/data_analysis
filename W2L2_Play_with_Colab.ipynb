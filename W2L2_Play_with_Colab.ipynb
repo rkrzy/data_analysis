{
  "nbformat": 4,
  "nbformat_minor": 0,
  "metadata": {
    "colab": {
      "provenance": [],
      "include_colab_link": true
    },
    "kernelspec": {
      "name": "python3",
      "display_name": "Python 3"
    },
    "language_info": {
      "name": "python"
    }
  },
  "cells": [
    {
      "cell_type": "markdown",
      "metadata": {
        "id": "view-in-github",
        "colab_type": "text"
      },
      "source": [
        "<a href=\"https://colab.research.google.com/github/rkrzy/data_analysis/blob/main/W2L2_Play_with_Colab.ipynb\" target=\"_parent\"><img src=\"https://colab.research.google.com/assets/colab-badge.svg\" alt=\"Open In Colab\"/></a>"
      ]
    },
    {
      "cell_type": "markdown",
      "source": [
        "# PNUCSE 데이터과학입문  \n",
        "## 2주차 실습자료  \n",
        "### 교강사: 박영진, youngjinpark@pusan.ac.kr\n",
        "---\n",
        "\n",
        "## 실습 목표\n",
        "\n",
        "- 에러 메세지를 확인하고 디버깅할 수 있다.\n",
        "- 매직 커맨드를 활용할 수 있다.\n",
        "- Google Drive와 연계하여 파일을 읽고 쓸 수 있다.\n"
      ],
      "metadata": {
        "id": "5QsguxWvUBV5"
      }
    },
    {
      "cell_type": "markdown",
      "source": [
        "# 도움말(Docstring) 확인"
      ],
      "metadata": {
        "id": "0ZQpxf4gl6wu"
      }
    },
    {
      "cell_type": "code",
      "execution_count": null,
      "metadata": {
        "id": "nqXMQc67MxZf"
      },
      "outputs": [],
      "source": [
        "a = 10"
      ]
    },
    {
      "cell_type": "markdown",
      "source": [],
      "metadata": {
        "id": "GVYqYvD7sJZf"
      }
    },
    {
      "cell_type": "code",
      "source": [
        "a?"
      ],
      "metadata": {
        "id": "saiY-6QdM0nf"
      },
      "execution_count": null,
      "outputs": []
    },
    {
      "cell_type": "code",
      "source": [
        "class Calculator:\n",
        "  def __init__(self):\n",
        "    self.result = 0\n",
        "\n",
        "  def add(self, num):\n",
        "    self.result += num\n",
        "    return self.result"
      ],
      "metadata": {
        "id": "frXQc45FNID0"
      },
      "execution_count": null,
      "outputs": []
    },
    {
      "cell_type": "code",
      "source": [
        "Calculator?"
      ],
      "metadata": {
        "id": "8Mz9zQ6ENIcz"
      },
      "execution_count": null,
      "outputs": []
    },
    {
      "cell_type": "code",
      "source": [
        "def mult(a, b):\n",
        "    \"\"\"\n",
        "    Multiplies two numbers and returns the result.\n",
        "\n",
        "    Args:\n",
        "        a (int or float): The first number.\n",
        "        b (int or float): The second number.\n",
        "\n",
        "    Returns:\n",
        "        int or float: The product of `a` and `b`.\n",
        "\n",
        "    Example:\n",
        "        >>> mult(3, 4)\n",
        "        12\n",
        "        >>> mult(2.5, 4)\n",
        "        10.0\n",
        "    \"\"\"\n",
        "    return a * b"
      ],
      "metadata": {
        "id": "Q_0aDZtPNuLD"
      },
      "execution_count": null,
      "outputs": []
    },
    {
      "cell_type": "code",
      "source": [
        "mult?"
      ],
      "metadata": {
        "id": "1ZYulwgbNhRo"
      },
      "execution_count": null,
      "outputs": []
    },
    {
      "cell_type": "markdown",
      "source": [
        "# 에러 다루기 Error Handling"
      ],
      "metadata": {
        "id": "vV_62orVmwxH"
      }
    },
    {
      "cell_type": "code",
      "source": [
        "Text = \"Hello World!!\"\n",
        "Text[3] = \"G\""
      ],
      "metadata": {
        "id": "HNITpX8vm26x",
        "colab": {
          "base_uri": "https://localhost:8080/",
          "height": 198
        },
        "outputId": "7a2e2354-68cf-4894-c4e7-cc176489d6c8"
      },
      "execution_count": null,
      "outputs": [
        {
          "output_type": "error",
          "ename": "TypeError",
          "evalue": "'str' object does not support item assignment",
          "traceback": [
            "\u001b[0;31m---------------------------------------------------------------------------\u001b[0m",
            "\u001b[0;31mTypeError\u001b[0m                                 Traceback (most recent call last)",
            "\u001b[0;32m<ipython-input-8-3e9d49660873>\u001b[0m in \u001b[0;36m<cell line: 0>\u001b[0;34m()\u001b[0m\n\u001b[1;32m      1\u001b[0m \u001b[0mText\u001b[0m \u001b[0;34m=\u001b[0m \u001b[0;34m\"Hello World!!\"\u001b[0m\u001b[0;34m\u001b[0m\u001b[0;34m\u001b[0m\u001b[0m\n\u001b[0;32m----> 2\u001b[0;31m \u001b[0mText\u001b[0m\u001b[0;34m[\u001b[0m\u001b[0;36m3\u001b[0m\u001b[0;34m]\u001b[0m \u001b[0;34m=\u001b[0m \u001b[0;34m\"G\"\u001b[0m\u001b[0;34m\u001b[0m\u001b[0;34m\u001b[0m\u001b[0m\n\u001b[0m",
            "\u001b[0;31mTypeError\u001b[0m: 'str' object does not support item assignment"
          ]
        }
      ]
    },
    {
      "cell_type": "code",
      "source": [
        "a = 5\n",
        "b = \"Hello\"\n",
        "\n",
        "print(a + b)"
      ],
      "metadata": {
        "id": "ucCJ7xumm9J0",
        "colab": {
          "base_uri": "https://localhost:8080/"
        },
        "outputId": "d762278a-76db-4958-88b3-a0eec0b7d8dd"
      },
      "execution_count": null,
      "outputs": [
        {
          "output_type": "stream",
          "name": "stdout",
          "text": [
            "ㅇHello\n"
          ]
        }
      ]
    },
    {
      "cell_type": "code",
      "source": [
        "arr = [1, 2, 3, 4, 5"
      ],
      "metadata": {
        "id": "7QD9lBY4m_6n"
      },
      "execution_count": null,
      "outputs": []
    },
    {
      "cell_type": "code",
      "source": [
        "a = class"
      ],
      "metadata": {
        "id": "YYsEXNMlnDxY"
      },
      "execution_count": null,
      "outputs": []
    },
    {
      "cell_type": "code",
      "source": [
        "for i in range(10):\n",
        "  sum = 10 / i\n",
        "\n",
        "print(sum)"
      ],
      "metadata": {
        "id": "g41l5T2tge8i"
      },
      "execution_count": null,
      "outputs": []
    },
    {
      "cell_type": "code",
      "source": [
        "a = 0\n",
        "b = 100 / a"
      ],
      "metadata": {
        "id": "pwAXFTcGgqcq"
      },
      "execution_count": null,
      "outputs": []
    },
    {
      "cell_type": "code",
      "source": [
        "a = number"
      ],
      "metadata": {
        "id": "6PGzyAP_hu_B"
      },
      "execution_count": null,
      "outputs": []
    },
    {
      "cell_type": "code",
      "source": [
        "arr = [1,2,3,4,5,6,7,8,9,10]\n",
        "\n",
        "for i in range(len(arr) + 1):\n",
        "  print(arr[i])"
      ],
      "metadata": {
        "id": "hQniS2qHiJ8p",
        "colab": {
          "base_uri": "https://localhost:8080/",
          "height": 394
        },
        "outputId": "ebb7e094-196e-4ad2-adad-535672ec9867"
      },
      "execution_count": null,
      "outputs": [
        {
          "output_type": "stream",
          "name": "stdout",
          "text": [
            "1\n",
            "2\n",
            "3\n",
            "4\n",
            "5\n",
            "6\n",
            "7\n",
            "8\n",
            "9\n",
            "10\n"
          ]
        },
        {
          "output_type": "error",
          "ename": "IndexError",
          "evalue": "list index out of range",
          "traceback": [
            "\u001b[0;31m---------------------------------------------------------------------------\u001b[0m",
            "\u001b[0;31mIndexError\u001b[0m                                Traceback (most recent call last)",
            "\u001b[0;32m<ipython-input-13-b59ce711df23>\u001b[0m in \u001b[0;36m<cell line: 0>\u001b[0;34m()\u001b[0m\n\u001b[1;32m      2\u001b[0m \u001b[0;34m\u001b[0m\u001b[0m\n\u001b[1;32m      3\u001b[0m \u001b[0;32mfor\u001b[0m \u001b[0mi\u001b[0m \u001b[0;32min\u001b[0m \u001b[0mrange\u001b[0m\u001b[0;34m(\u001b[0m\u001b[0mlen\u001b[0m\u001b[0;34m(\u001b[0m\u001b[0marr\u001b[0m\u001b[0;34m)\u001b[0m \u001b[0;34m+\u001b[0m \u001b[0;36m1\u001b[0m\u001b[0;34m)\u001b[0m\u001b[0;34m:\u001b[0m\u001b[0;34m\u001b[0m\u001b[0;34m\u001b[0m\u001b[0m\n\u001b[0;32m----> 4\u001b[0;31m   \u001b[0mprint\u001b[0m\u001b[0;34m(\u001b[0m\u001b[0marr\u001b[0m\u001b[0;34m[\u001b[0m\u001b[0mi\u001b[0m\u001b[0;34m]\u001b[0m\u001b[0;34m)\u001b[0m\u001b[0;34m\u001b[0m\u001b[0;34m\u001b[0m\u001b[0m\n\u001b[0m",
            "\u001b[0;31mIndexError\u001b[0m: list index out of range"
          ]
        }
      ]
    },
    {
      "cell_type": "markdown",
      "source": [
        "# 원활하게 디버깅을 수행하는 방법"
      ],
      "metadata": {
        "id": "YglBRPWHxPkV"
      }
    },
    {
      "cell_type": "code",
      "source": [
        "a = 100\n",
        "sum = 0\n",
        "\n",
        "for i in range(a):\n",
        "  sum = sum + i"
      ],
      "metadata": {
        "id": "PBmPnJhQ3MyA"
      },
      "execution_count": null,
      "outputs": []
    },
    {
      "cell_type": "code",
      "source": [
        "a = 10\n",
        "sum = 0\n",
        "\n",
        "for i in range(a):\n",
        "  sum = sum + i * i"
      ],
      "metadata": {
        "id": "y7Xl0khc4IFv"
      },
      "execution_count": null,
      "outputs": []
    },
    {
      "cell_type": "markdown",
      "source": [
        "# 매직 커맨드 활용"
      ],
      "metadata": {
        "id": "SZTeV3X8mHE3"
      }
    },
    {
      "cell_type": "code",
      "source": [
        "%magic"
      ],
      "metadata": {
        "id": "qLFoddh-N3bG"
      },
      "execution_count": null,
      "outputs": []
    },
    {
      "cell_type": "code",
      "source": [
        "%pdb\n",
        "a = 10\n",
        "b = \"Hello World!!\"\n",
        "c = 3.14\n",
        "d = 0.0\n",
        "\n",
        "print(a / d)"
      ],
      "metadata": {
        "id": "bgfeQ95ymONQ",
        "colab": {
          "base_uri": "https://localhost:8080/",
          "height": 412
        },
        "outputId": "2e3a8204-4c6f-417e-900a-6e8082408abd"
      },
      "execution_count": null,
      "outputs": [
        {
          "output_type": "stream",
          "name": "stdout",
          "text": [
            "Automatic pdb calling has been turned ON\n"
          ]
        },
        {
          "output_type": "error",
          "ename": "ZeroDivisionError",
          "evalue": "float division by zero",
          "traceback": [
            "\u001b[0;31m---------------------------------------------------------------------------\u001b[0m",
            "\u001b[0;31mZeroDivisionError\u001b[0m                         Traceback (most recent call last)",
            "\u001b[0;32m<ipython-input-39-f921a65fba96>\u001b[0m in \u001b[0;36m<cell line: 0>\u001b[0;34m()\u001b[0m\n\u001b[1;32m      5\u001b[0m \u001b[0md\u001b[0m \u001b[0;34m=\u001b[0m \u001b[0;36m0.0\u001b[0m\u001b[0;34m\u001b[0m\u001b[0;34m\u001b[0m\u001b[0m\n\u001b[1;32m      6\u001b[0m \u001b[0;34m\u001b[0m\u001b[0m\n\u001b[0;32m----> 7\u001b[0;31m \u001b[0mprint\u001b[0m\u001b[0;34m(\u001b[0m\u001b[0ma\u001b[0m \u001b[0;34m/\u001b[0m \u001b[0md\u001b[0m\u001b[0;34m)\u001b[0m\u001b[0;34m\u001b[0m\u001b[0;34m\u001b[0m\u001b[0m\n\u001b[0m",
            "\u001b[0;31mZeroDivisionError\u001b[0m: float division by zero"
          ]
        },
        {
          "output_type": "stream",
          "name": "stdout",
          "text": [
            "> \u001b[0;32m<ipython-input-39-f921a65fba96>\u001b[0m(7)\u001b[0;36m<cell line: 0>\u001b[0;34m()\u001b[0m\n",
            "\u001b[0;32m      3 \u001b[0;31m\u001b[0mb\u001b[0m \u001b[0;34m=\u001b[0m \u001b[0;34m\"Hello World!!\"\u001b[0m\u001b[0;34m\u001b[0m\u001b[0;34m\u001b[0m\u001b[0m\n",
            "\u001b[0m\u001b[0;32m      4 \u001b[0;31m\u001b[0mc\u001b[0m \u001b[0;34m=\u001b[0m \u001b[0;36m3.14\u001b[0m\u001b[0;34m\u001b[0m\u001b[0;34m\u001b[0m\u001b[0m\n",
            "\u001b[0m\u001b[0;32m      5 \u001b[0;31m\u001b[0md\u001b[0m \u001b[0;34m=\u001b[0m \u001b[0;36m0.0\u001b[0m\u001b[0;34m\u001b[0m\u001b[0;34m\u001b[0m\u001b[0m\n",
            "\u001b[0m\u001b[0;32m      6 \u001b[0;31m\u001b[0;34m\u001b[0m\u001b[0m\n",
            "\u001b[0m\u001b[0;32m----> 7 \u001b[0;31m\u001b[0mprint\u001b[0m\u001b[0;34m(\u001b[0m\u001b[0ma\u001b[0m \u001b[0;34m/\u001b[0m \u001b[0md\u001b[0m\u001b[0;34m)\u001b[0m\u001b[0;34m\u001b[0m\u001b[0;34m\u001b[0m\u001b[0m\n",
            "\u001b[0m\n",
            "--KeyboardInterrupt--\n",
            "\n",
            "KeyboardInterrupt: Interrupted by user\n"
          ]
        }
      ]
    },
    {
      "cell_type": "code",
      "source": [
        "%time a = 10"
      ],
      "metadata": {
        "id": "FkXrLknimXb8",
        "colab": {
          "base_uri": "https://localhost:8080/"
        },
        "outputId": "a38b064c-0b03-47ab-9b03-bb43a9b15ad9"
      },
      "execution_count": null,
      "outputs": [
        {
          "output_type": "stream",
          "name": "stdout",
          "text": [
            "CPU times: user 2 µs, sys: 0 ns, total: 2 µs\n",
            "Wall time: 12.2 µs\n"
          ]
        }
      ]
    },
    {
      "cell_type": "code",
      "source": [
        "%time a= 1000/5"
      ],
      "metadata": {
        "id": "jSb0t0qGmaOm",
        "colab": {
          "base_uri": "https://localhost:8080/"
        },
        "outputId": "445062ef-bd29-499f-a258-f9866562ebbf"
      },
      "execution_count": null,
      "outputs": [
        {
          "output_type": "stream",
          "name": "stdout",
          "text": [
            "CPU times: user 4 µs, sys: 0 ns, total: 4 µs\n",
            "Wall time: 8.34 µs\n"
          ]
        }
      ]
    },
    {
      "cell_type": "code",
      "source": [
        "%whos"
      ],
      "metadata": {
        "id": "Ar-dxGJ7mfZ6",
        "colab": {
          "base_uri": "https://localhost:8080/"
        },
        "outputId": "e1645879-c66d-4a07-fd7e-4cc60b12730d"
      },
      "execution_count": null,
      "outputs": [
        {
          "output_type": "stream",
          "name": "stdout",
          "text": [
            "Variable     Type        Data/Info\n",
            "----------------------------------\n",
            "Calculator   type        <class '__main__.Calculator'>\n",
            "Text         str         Hello World!!\n",
            "a            float       200.0\n",
            "arr          list        n=10\n",
            "b            str         Hello World!!\n",
            "c            float       3.14\n",
            "d            float       0.0\n",
            "i            int         9\n",
            "mult         function    <function mult at 0x7e1e023284a0>\n",
            "sum          int         285\n"
          ]
        }
      ]
    },
    {
      "cell_type": "code",
      "source": [
        "%%time\n",
        "for i in range(100):\n",
        "  b = a * a"
      ],
      "metadata": {
        "id": "0DdQwLr5mr4A",
        "colab": {
          "base_uri": "https://localhost:8080/"
        },
        "outputId": "f5794011-6c4e-481f-f9ae-9595d3a61ea1"
      },
      "execution_count": null,
      "outputs": [
        {
          "output_type": "stream",
          "name": "stdout",
          "text": [
            "CPU times: user 10 µs, sys: 2 µs, total: 12 µs\n",
            "Wall time: 16.2 µs\n"
          ]
        }
      ]
    },
    {
      "cell_type": "code",
      "source": [
        "%%time\n",
        "a = 3\n",
        "b = 4\n",
        "c = 5\n",
        "\n",
        "if a**2 + b**2 is c**2:\n",
        "  print(\"직각 삼각형입니다.\")"
      ],
      "metadata": {
        "id": "KKVPKxsxf6fT"
      },
      "execution_count": null,
      "outputs": []
    },
    {
      "cell_type": "code",
      "source": [
        "%pwd"
      ],
      "metadata": {
        "id": "6b2mUTw8RdRT"
      },
      "execution_count": null,
      "outputs": []
    },
    {
      "cell_type": "markdown",
      "source": [
        "**실습: 강의 자료를 보고, 새로운 폴더를 만들고 확인해보세요.**\n",
        "\n",
        "**TODO: Check lecture slides and make a new directory.**"
      ],
      "metadata": {
        "id": "XQ5SYMPSSK4z"
      }
    },
    {
      "cell_type": "code",
      "source": [
        "mkdir Data"
      ],
      "metadata": {
        "id": "Ts20gk-ESbxJ"
      },
      "execution_count": null,
      "outputs": []
    },
    {
      "cell_type": "markdown",
      "source": [
        "# 구글 드라이브 불러오기"
      ],
      "metadata": {
        "id": "LEysjsEYxhoR"
      }
    },
    {
      "cell_type": "code",
      "source": [
        "from google.colab import drive\n",
        "drive.mount('/content/drive')"
      ],
      "metadata": {
        "id": "PA8YlPhRxCeu",
        "colab": {
          "base_uri": "https://localhost:8080/"
        },
        "outputId": "e3de3df0-d6f7-4843-bb8a-1effe97d7177"
      },
      "execution_count": null,
      "outputs": [
        {
          "output_type": "stream",
          "name": "stdout",
          "text": [
            "Drive already mounted at /content/drive; to attempt to forcibly remount, call drive.mount(\"/content/drive\", force_remount=True).\n"
          ]
        }
      ]
    },
    {
      "cell_type": "markdown",
      "source": [
        "# csv 파일 읽어오기"
      ],
      "metadata": {
        "id": "JpHhNjC7xxuo"
      }
    },
    {
      "cell_type": "code",
      "source": [
        "import pandas as pd\n",
        "\n",
        "pharmacy = pd.read_csv('/content/drive/MyDrive/Colab Notebooks/Data/부산광역시_금정구_약국 현황_20240924.csv', encoding=\"EUC-KR\")\n",
        "print(pharmacy)"
      ],
      "metadata": {
        "id": "P9iNTmtwxkDV",
        "colab": {
          "base_uri": "https://localhost:8080/"
        },
        "outputId": "887450f7-1916-4e03-fb75-a2189379606c"
      },
      "execution_count": null,
      "outputs": [
        {
          "output_type": "stream",
          "name": "stdout",
          "text": [
            "        약국명칭        약국전화번호                         약국소재지(도로명)\n",
            "0    부곡온누리약국  051-715-0133    부산광역시 금정구 부곡로 128, 1층 일부호 (부곡동)\n",
            "1       수강약국  051-508-0929    부산광역시 금정구 체육공원로 665, 수강약국 (두구동)\n",
            "2      키다리약국  051-949-2119  부산광역시 금정구 중앙대로 1931, 1층 일부호 (구서동)\n",
            "3       황금약국           NaN           부산광역시 금정구 서동로 159-1 (서동)\n",
            "4      신제일약국  051-583-1717  부산광역시 금정구 중앙대로 2097, 1층 일부호 (남산동)\n",
            "..       ...           ...                                ...\n",
            "103   팔송보건약국  051-581-0661      부산광역시 금정구 중앙대로 2101, 1층 (남산동)\n",
            "104     두실약국  051-582-1090      부산광역시 금정구 중앙대로 1943, 1층 (구서동)\n",
            "105     동서약국  051-522-6318        부산광역시 금정구 서동중심로 61, 1층 (서동)\n",
            "106     진성약국  051-513-9620         부산광역시 금정구 부곡로 93, 1층 (부곡동)\n",
            "107  메디팜대성약국  051-582-1772      부산광역시 금정구 금강로 206-1, 1층 (장전동)\n",
            "\n",
            "[108 rows x 3 columns]\n"
          ]
        }
      ]
    },
    {
      "cell_type": "markdown",
      "source": [
        "# txt 파일 저장하기"
      ],
      "metadata": {
        "id": "FhWfKLgFnLqs"
      }
    },
    {
      "cell_type": "code",
      "source": [
        "idx = 0\n",
        "name = pharmacy['약국명칭']\n",
        "number = pharmacy['약국전화번호']\n",
        "address = pharmacy['약국소재지(도로명)']\n",
        "\n",
        "path = '/content/drive/MyDrive/Colab Notebooks/Data/pharmacy_0.txt'\n",
        "\n",
        "with open(path, \"w\", encoding=\"utf-8\") as f:\n",
        "  f.write(name[idx] + \" \")\n",
        "  f.write(number[idx] + \" \")\n",
        "  f.write(address[idx])"
      ],
      "metadata": {
        "id": "e6NLJ-Pax1rI"
      },
      "execution_count": null,
      "outputs": []
    },
    {
      "cell_type": "markdown",
      "source": [
        "# Text to speech (with pip)"
      ],
      "metadata": {
        "id": "B2qFgaiO0oHK"
      }
    },
    {
      "cell_type": "markdown",
      "source": [
        "gTTS에 대한 자세한 파라미터 설명은 [링크](https://gtts.readthedocs.io/en/latest/module.html#module-gtts.tts)에서 확인가능합니다.\n",
        "\n",
        "gTTS는 라이브러리는 구글 번역기 서버와 컴퓨터를 중개하는 API 역할을 수행합니다.\n",
        "\n",
        "즉, text는 로컬 컴퓨터에서 음성파일로 변환되는 것이 아닌, 구글 번역기 서버에서 음성파일로 변환되어 컴퓨터로 다시 돌아오게 됩니다."
      ],
      "metadata": {
        "id": "vgwsF5Zu014L"
      }
    },
    {
      "cell_type": "code",
      "source": [
        "pip install gTTS"
      ],
      "metadata": {
        "id": "dQ-5v-8y0xX9",
        "colab": {
          "base_uri": "https://localhost:8080/"
        },
        "outputId": "3e94fbcb-b6ce-430d-b66c-da8e8b8c2bba"
      },
      "execution_count": null,
      "outputs": [
        {
          "output_type": "stream",
          "name": "stdout",
          "text": [
            "Collecting gTTS\n",
            "  Downloading gTTS-2.5.4-py3-none-any.whl.metadata (4.1 kB)\n",
            "Requirement already satisfied: requests<3,>=2.27 in /usr/local/lib/python3.11/dist-packages (from gTTS) (2.32.3)\n",
            "Requirement already satisfied: click<8.2,>=7.1 in /usr/local/lib/python3.11/dist-packages (from gTTS) (8.1.8)\n",
            "Requirement already satisfied: charset-normalizer<4,>=2 in /usr/local/lib/python3.11/dist-packages (from requests<3,>=2.27->gTTS) (3.4.1)\n",
            "Requirement already satisfied: idna<4,>=2.5 in /usr/local/lib/python3.11/dist-packages (from requests<3,>=2.27->gTTS) (3.10)\n",
            "Requirement already satisfied: urllib3<3,>=1.21.1 in /usr/local/lib/python3.11/dist-packages (from requests<3,>=2.27->gTTS) (2.3.0)\n",
            "Requirement already satisfied: certifi>=2017.4.17 in /usr/local/lib/python3.11/dist-packages (from requests<3,>=2.27->gTTS) (2025.1.31)\n",
            "Downloading gTTS-2.5.4-py3-none-any.whl (29 kB)\n",
            "Installing collected packages: gTTS\n",
            "Successfully installed gTTS-2.5.4\n"
          ]
        }
      ]
    },
    {
      "cell_type": "code",
      "source": [
        "from gtts import gTTS\n",
        "import os\n",
        "\n",
        "file_name = \"hello.mp3\"\n",
        "language = \"ko\"\n",
        "text = \"안녕하세요\"\n",
        "\n",
        "speech = gTTS(text,lang=language)\n",
        "speech.save(file_name)"
      ],
      "metadata": {
        "id": "hN2L1HTA0y-n"
      },
      "execution_count": null,
      "outputs": []
    }
  ]
}