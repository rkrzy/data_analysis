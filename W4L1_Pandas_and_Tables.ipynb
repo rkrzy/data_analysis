{
  "nbformat": 4,
  "nbformat_minor": 0,
  "metadata": {
    "colab": {
      "provenance": [],
      "collapsed_sections": [
        "qDPlAjafCmzA"
      ],
      "include_colab_link": true
    },
    "kernelspec": {
      "name": "python3",
      "display_name": "Python 3"
    },
    "language_info": {
      "name": "python"
    }
  },
  "cells": [
    {
      "cell_type": "markdown",
      "metadata": {
        "id": "view-in-github",
        "colab_type": "text"
      },
      "source": [
        "<a href=\"https://colab.research.google.com/github/rkrzy/data_analysis/blob/main/W4L1_Pandas_and_Tables.ipynb\" target=\"_parent\"><img src=\"https://colab.research.google.com/assets/colab-badge.svg\" alt=\"Open In Colab\"/></a>"
      ]
    },
    {
      "cell_type": "markdown",
      "source": [
        "# PNUCSE 데이터과학입문  \n",
        "## 4주차 실습자료  \n",
        "### 교강사: 박영진, youngjinpark@pusan.ac.kr\n",
        "---\n",
        "\n",
        "## 실습 목표\n",
        "\n",
        "- Pandas\n",
        "- DataFrame\n",
        "- Table Basics\n",
        "- DataFrame w/ Real Data\n",
        "  - NBA\n",
        "  - Census"
      ],
      "metadata": {
        "id": "7rhV_9lx8RTx"
      }
    },
    {
      "cell_type": "markdown",
      "source": [
        "# Pandas\n"
      ],
      "metadata": {
        "id": "lZcU3pap8czS"
      }
    },
    {
      "cell_type": "code",
      "source": [
        "#p.7\n",
        "#colab에서는 이미 pandas가 설치되어 있습니다.\n",
        "!pip install pandas"
      ],
      "metadata": {
        "id": "bSfZutFpd0QI"
      },
      "execution_count": null,
      "outputs": []
    },
    {
      "cell_type": "markdown",
      "source": [
        "# DataFrame"
      ],
      "metadata": {
        "id": "vKfGNzz589_e"
      }
    },
    {
      "cell_type": "code",
      "source": [
        "import pandas as pd\n",
        "import numpy as np"
      ],
      "metadata": {
        "id": "zYeVl1UY-lwM"
      },
      "execution_count": 1,
      "outputs": []
    },
    {
      "cell_type": "code",
      "source": [
        "#p.12\n",
        "df = pd.DataFrame()\n",
        "print(df)"
      ],
      "metadata": {
        "id": "yP1KyOme98TW"
      },
      "execution_count": null,
      "outputs": []
    },
    {
      "cell_type": "code",
      "source": [
        "#p.12 gen from list\n",
        "df = pd.DataFrame(data = [1,2,3,4,5])\n",
        "df"
      ],
      "metadata": {
        "id": "bdYFvrFn-o6c"
      },
      "execution_count": null,
      "outputs": []
    },
    {
      "cell_type": "code",
      "source": [
        "#p.12 gen from ndarray\n",
        "df = pd.DataFrame(np.array([[1,2,3],[4,5,6]]))\n",
        "df"
      ],
      "metadata": {
        "id": "SPtJEqns_HuJ"
      },
      "execution_count": null,
      "outputs": []
    },
    {
      "cell_type": "code",
      "source": [
        "#p.12 gen from series\n",
        "series = pd.Series([10,20,30], index=['a','b','c'])\n",
        "df = pd.DataFrame(series)\n",
        "df"
      ],
      "metadata": {
        "id": "T0TKssaS-2C-"
      },
      "execution_count": null,
      "outputs": []
    },
    {
      "cell_type": "code",
      "source": [
        "#p.12 gen from dict\n",
        "dict_data = {'Name':['Minseok', 'Taekgwan', 'Jinyoung'], 'Score':[90,85,95]}\n",
        "df = pd.DataFrame(dict_data)\n",
        "df"
      ],
      "metadata": {
        "id": "yUTjf6-j_ddk"
      },
      "execution_count": null,
      "outputs": []
    },
    {
      "cell_type": "code",
      "source": [
        "#p.12 gen from map\n",
        "map_data = map(lambda x: x*2, [1,2,3,4])\n",
        "df = pd.DataFrame(map_data, columns=['Values'])\n",
        "df"
      ],
      "metadata": {
        "id": "9AvyBp6g_pRL"
      },
      "execution_count": null,
      "outputs": []
    },
    {
      "cell_type": "code",
      "source": [
        "#p.12 dtype\n",
        "df = pd.DataFrame(np.array([[1,2,3],[4,5,6]])) # ndarray\n",
        "print(df)\n",
        "df2 = pd.DataFrame(np.array([[1,2,3],[4,5,6]]), dtype=float) # ndarray\n",
        "print(df2)"
      ],
      "metadata": {
        "id": "2CZjQ8eK_25o"
      },
      "execution_count": null,
      "outputs": []
    },
    {
      "cell_type": "code",
      "source": [
        "#p.12 copy = False\n",
        "original_data = np.array([[10, 20], [30, 40]])\n",
        "df_no_copy = pd.DataFrame(original_data, copy=False)\n",
        "\n",
        "df_no_copy.iloc[0, 0] = 999\n",
        "\n",
        "print(\"Original Data:\\n\", original_data)\n",
        "print(\"DataFrame:\\n\", df_no_copy)"
      ],
      "metadata": {
        "id": "t7pTG7XG81Yz"
      },
      "execution_count": null,
      "outputs": []
    },
    {
      "cell_type": "code",
      "source": [
        "#p.12 copy = True\n",
        "original_data = np.array([[10, 20], [30, 40]])\n",
        "df_copy = pd.DataFrame(original_data, copy=True)\n",
        "\n",
        "df_copy.iloc[0, 0] = 999\n",
        "\n",
        "print(\"Original Data:\\n\", original_data)\n",
        "print(\"DataFrame:\\n\", df_copy)"
      ],
      "metadata": {
        "id": "xZ05OMxQ9DvW"
      },
      "execution_count": null,
      "outputs": []
    },
    {
      "cell_type": "code",
      "source": [
        "#p.15\n",
        "import datetime as dt\n",
        "import numpy as np\n",
        "import pandas as pd"
      ],
      "metadata": {
        "id": "7Uzinikb8wSm"
      },
      "execution_count": null,
      "outputs": []
    },
    {
      "cell_type": "code",
      "source": [
        "#p.15\n",
        "np.random.seed(0) # set a seed for reproducibility\n",
        "s = pd.Series(np.random.rand(5), index=[\"a\", \"b\", \"c\", \"d\", \"e\"])\n",
        "pd.DataFrame(s)"
      ],
      "metadata": {
        "id": "29SiJZqQ9EUn"
      },
      "execution_count": null,
      "outputs": []
    },
    {
      "cell_type": "code",
      "source": [
        "#p.15\n",
        "pd.Series(np.linspace(0, 10, num=5)).to_frame()"
      ],
      "metadata": {
        "id": "UU4dH7L29MDu"
      },
      "execution_count": null,
      "outputs": []
    },
    {
      "cell_type": "code",
      "source": [
        "#p.16\n",
        "import pandas as pd\n",
        "data ={'apples':[3,2,0,1], 'oranges':[0,3,7,2]}\n",
        "df=pd.DataFrame(data)\n",
        "df"
      ],
      "metadata": {
        "id": "2Y2pdu1D9eac"
      },
      "execution_count": null,
      "outputs": []
    },
    {
      "cell_type": "code",
      "source": [
        "#p.17\n",
        "data ={'apples':[3,2,0,1], 'oranges':[0,3,7,2]}\n",
        "df=pd.DataFrame(data,index=['Ace', 'Baloon', 'Coco', 'Data'])\n",
        "df"
      ],
      "metadata": {
        "id": "5lkQ_uB49wGa"
      },
      "execution_count": null,
      "outputs": []
    },
    {
      "cell_type": "code",
      "source": [
        "#p.18\n",
        "np.random.seed(0) # set seed so result is reproducible\n",
        "pd.DataFrame(\n",
        "    {\n",
        "        'random':np.random.rand(5),\n",
        "        'text':['hot','warm','cool','cold',None],\n",
        "        'truth':[np.random.choice([True, False]) for _ in range(5)]\n",
        "    },\n",
        "    index=pd.date_range(\n",
        "        end=dt.date(2019,4,21),\n",
        "        freq='1D',\n",
        "        periods=5,\n",
        "        name='date'\n",
        "    )\n",
        ")"
      ],
      "metadata": {
        "id": "761YO2q_989Q"
      },
      "execution_count": null,
      "outputs": []
    },
    {
      "cell_type": "code",
      "source": [
        "#p.19\n",
        "dict0 = {'col1': [1, 2, 3], 'col2': [4, 5, 6]}\n",
        "pd.DataFrame.from_dict(data = dict0)"
      ],
      "metadata": {
        "id": "UX6KaPy2KZw7"
      },
      "execution_count": null,
      "outputs": []
    },
    {
      "cell_type": "code",
      "source": [
        "#p.20\n",
        "pd.DataFrame([\n",
        "  {'mag':5.2, 'place': 'California'},\n",
        "  {'mag':1.2, 'place':'Alaska'},\n",
        "  {'mag':0.2, 'place':'California'},\n",
        "])"
      ],
      "metadata": {
        "id": "fJXgkwTD_d0-"
      },
      "execution_count": null,
      "outputs": []
    },
    {
      "cell_type": "code",
      "source": [
        "#p.20\n",
        "list_of_tuples=[(n,n**2,n**3) for n in range(5)]\n",
        "list_of_tuples"
      ],
      "metadata": {
        "id": "KV-KjDxa__Qc"
      },
      "execution_count": null,
      "outputs": []
    },
    {
      "cell_type": "code",
      "source": [
        "pd.DataFrame(\n",
        "    list_of_tuples,\n",
        "    columns=['n','n_squared','n_cubed']\n",
        ")"
      ],
      "metadata": {
        "id": "Pwky3BOiAH83"
      },
      "execution_count": null,
      "outputs": []
    },
    {
      "cell_type": "code",
      "source": [
        "#p.21\n",
        "data= {'col_1':[3,2,1,0], 'col_2':['a','b','c','d']}\n",
        "pd.DataFrame.from_dict(data)"
      ],
      "metadata": {
        "id": "1bwZFg5CAROk"
      },
      "execution_count": null,
      "outputs": []
    },
    {
      "cell_type": "code",
      "source": [
        "#p.21\n",
        "data= {'row_1':[3,2,1,0], 'row_2':['a','b','c','d']}\n",
        "pd.DataFrame.from_dict(data, orient='index')"
      ],
      "metadata": {
        "id": "QOOJWFxIAiL7"
      },
      "execution_count": null,
      "outputs": []
    },
    {
      "cell_type": "code",
      "source": [
        "#p.21\n",
        "pd.DataFrame.from_dict(data, orient='index', columns=['A','B','C','D'])"
      ],
      "metadata": {
        "id": "ukUQoO_HA_QS"
      },
      "execution_count": null,
      "outputs": []
    },
    {
      "cell_type": "code",
      "source": [
        "#p.23\n",
        "from google.colab import files\n",
        "file_uploaded = files.upload()\n",
        "\n",
        "df=pd.read_csv('dataset.csv')\n",
        "df"
      ],
      "metadata": {
        "id": "wtUK3hqwB493"
      },
      "execution_count": null,
      "outputs": []
    },
    {
      "cell_type": "code",
      "source": [
        "#p.24\n",
        "df=pd.read_csv('dataset.csv',index_col=0)\n",
        "df"
      ],
      "metadata": {
        "id": "Tm35Xv7-CSSk"
      },
      "execution_count": null,
      "outputs": []
    },
    {
      "cell_type": "code",
      "source": [
        "#p.25\n",
        "df.to_csv('output.csv',index=False)\n",
        "df.to_csv('output_indexed.csv',index=True)"
      ],
      "metadata": {
        "id": "QMN2yb0RCaw8"
      },
      "execution_count": null,
      "outputs": []
    },
    {
      "cell_type": "markdown",
      "source": [
        "# Important DataFrame operations\n"
      ],
      "metadata": {
        "id": "qDPlAjafCmzA"
      }
    },
    {
      "cell_type": "code",
      "source": [
        "#p.28 Load IMDB movie Dataset (file based) download link https://www.kaggle.com/datasets/PromptCloudHQ/imdb-data\n",
        "file_uploaded=files.upload()\n",
        "movies_df=pd.read_csv('IMDB-Movie-Data.csv',index_col='Title')\n",
        "movies_df"
      ],
      "metadata": {
        "id": "LBys1DRJDfIm"
      },
      "execution_count": null,
      "outputs": []
    },
    {
      "cell_type": "code",
      "source": [
        "#p.28 Load IMDB movie Dataset (API based)\n",
        "import os\n",
        "import kagglehub\n",
        "import zipfile\n",
        "\n",
        "path = kagglehub.dataset_download(\"PromptCloudHQ/imdb-data\")\n",
        "file_path = os.path.join(path, os.listdir(path)[0])\n",
        "print(file_path)\n",
        "movies_df = pd.read_csv(file_path,index_col=\"Title\")\n",
        "movies_df"
      ],
      "metadata": {
        "id": "3gSUYB2qDmvC"
      },
      "execution_count": null,
      "outputs": []
    },
    {
      "cell_type": "code",
      "source": [
        "#p.29\n",
        "movies_df.head()"
      ],
      "metadata": {
        "id": "StR-WYF3JZdi"
      },
      "execution_count": null,
      "outputs": []
    },
    {
      "cell_type": "code",
      "source": [
        "#p.29\n",
        "movies_df.head(10)"
      ],
      "metadata": {
        "id": "oHZUUzuVJbtc"
      },
      "execution_count": null,
      "outputs": []
    },
    {
      "cell_type": "code",
      "source": [
        "#p.29\n",
        "movies_df.tail(10)"
      ],
      "metadata": {
        "id": "CK5d5v0uJdea"
      },
      "execution_count": null,
      "outputs": []
    },
    {
      "cell_type": "code",
      "source": [
        "#p.30\n",
        "movies_df.info()"
      ],
      "metadata": {
        "id": "hHQyrwT-Jlg5"
      },
      "execution_count": null,
      "outputs": []
    },
    {
      "cell_type": "code",
      "source": [
        "#p.30\n",
        "movies_df.shape"
      ],
      "metadata": {
        "id": "RBDmqucVJo92"
      },
      "execution_count": null,
      "outputs": []
    },
    {
      "cell_type": "code",
      "source": [
        "#p.31 Handling duplicates\n",
        "#오류 유도, pandas 2.0.0 버전부터 DataFrame.append()메소드 삭제\n",
        "#공식문서 https://pandas.pydata.org/docs/dev/whatsnew/v2.0.0.html#deprecations\n",
        "print(pd.__version__)\n",
        "temp_df=movies_df.append([movies_df,movies_df])\n",
        "temp_df.shape"
      ],
      "metadata": {
        "id": "RUFthAiangQ1"
      },
      "execution_count": null,
      "outputs": []
    },
    {
      "cell_type": "code",
      "source": [
        "#p.32\n",
        "temp_df=pd.concat([movies_df,movies_df])\n",
        "temp_df.shape"
      ],
      "metadata": {
        "id": "vnJLdArDJvrO"
      },
      "execution_count": null,
      "outputs": []
    },
    {
      "cell_type": "code",
      "source": [
        "#p.32\n",
        "temp_df=temp_df.drop_duplicates()\n",
        "temp_df.shape"
      ],
      "metadata": {
        "id": "fjvTQZCEJ4fN"
      },
      "execution_count": null,
      "outputs": []
    },
    {
      "cell_type": "code",
      "source": [
        "#p.32\n",
        "temp_df=pd.concat([movies_df,movies_df])\n",
        "temp_df.drop_duplicates(inplace=True)\n",
        "temp_df.shape"
      ],
      "metadata": {
        "id": "X8sMMjjdV5H_"
      },
      "execution_count": null,
      "outputs": []
    },
    {
      "cell_type": "code",
      "source": [
        "#p.33\n",
        "movies_df.describe()"
      ],
      "metadata": {
        "id": "TFW2L9EnK7Gp"
      },
      "execution_count": null,
      "outputs": []
    },
    {
      "cell_type": "code",
      "source": [
        "#p.34\n",
        "movies_df['Genre'].describe()"
      ],
      "metadata": {
        "id": "hxD75yE7LB1T"
      },
      "execution_count": null,
      "outputs": []
    },
    {
      "cell_type": "markdown",
      "source": [
        "# Table Basics"
      ],
      "metadata": {
        "id": "RJqERu9aLKme"
      }
    },
    {
      "cell_type": "code",
      "source": [
        "#p.37\n",
        "from datascience import *\n",
        "import numpy as np\n",
        "from google.colab import files\n",
        "uploaded=files.upload()\n"
      ],
      "metadata": {
        "id": "TKIRv0h2LO3U"
      },
      "execution_count": null,
      "outputs": []
    },
    {
      "cell_type": "code",
      "source": [
        "Table?"
      ],
      "metadata": {
        "id": "G4EeNHPC3Buu"
      },
      "execution_count": null,
      "outputs": []
    },
    {
      "cell_type": "code",
      "source": [
        "#p.38\n",
        "cones=Table.read_table('cones.csv')\n",
        "cones"
      ],
      "metadata": {
        "id": "XNs9_JHWL0tY"
      },
      "execution_count": null,
      "outputs": []
    },
    {
      "cell_type": "code",
      "source": [
        "#p.38\n",
        "import pandas as pd\n",
        "cones1=pd.read_csv('cones.csv')\n",
        "cones1"
      ],
      "metadata": {
        "id": "7KL6_rLXL9WA"
      },
      "execution_count": null,
      "outputs": []
    },
    {
      "cell_type": "code",
      "source": [
        "#p.39\n",
        "cones1=pd.read_csv('cones.csv',index_col=0)\n",
        "cones1"
      ],
      "metadata": {
        "id": "sYuqlbRPMGjN"
      },
      "execution_count": null,
      "outputs": []
    },
    {
      "cell_type": "code",
      "source": [
        "#p.39\n",
        "#Define cones' attributes\n",
        "conesAttributes=[\"Flavor\",\"Color\",\"Price\"]\n",
        "\n",
        "# Define cones' data, must be same sequence as attributes\n",
        "conesData = [[\"strawberry\", \"pink\", 3.55],\n",
        "\t[\"chocolate\", \"light brown\", 4.75],\n",
        "\t[\"chocolate\", \"dark brown\", 5.25],\n",
        "\t[\"strawberry\", \"pink\", 5.25],\n",
        "\t[\"chocolate\", \"dark brown\", 5.25],\n",
        "\t[\"bubblegem\", \"pink\", 4.75]]\n",
        "\n",
        "# Define cones\n",
        "cones3 = pd.DataFrame(data=conesData, columns=conesAttributes)\n",
        "cones3"
      ],
      "metadata": {
        "id": "au-wPXqVMNOo"
      },
      "execution_count": null,
      "outputs": []
    },
    {
      "cell_type": "code",
      "source": [
        "#p.40\n",
        "t=cones\n",
        "t.select('Flavor')\n"
      ],
      "metadata": {
        "id": "JZ_K2vKqMksx"
      },
      "execution_count": null,
      "outputs": []
    },
    {
      "cell_type": "code",
      "source": [
        "#p.40\n",
        "t.drop('Flavor')"
      ],
      "metadata": {
        "id": "3c5dMk92M0pp"
      },
      "execution_count": null,
      "outputs": []
    },
    {
      "cell_type": "code",
      "source": [
        "#p.40\n",
        "t.sort('Rating')"
      ],
      "metadata": {
        "id": "1Evu6FhyM50B"
      },
      "execution_count": null,
      "outputs": []
    },
    {
      "cell_type": "code",
      "source": [
        "#p.40\n",
        "t.where('Price',lambda p: p<=4)"
      ],
      "metadata": {
        "id": "-LhEKJJQM8pd"
      },
      "execution_count": null,
      "outputs": []
    },
    {
      "cell_type": "code",
      "source": [
        "#p.41\n",
        "no_colors=cones.drop('Color')\n",
        "no_colors\n"
      ],
      "metadata": {
        "id": "K2MWKCU7N5eF"
      },
      "execution_count": null,
      "outputs": []
    },
    {
      "cell_type": "code",
      "source": [
        "#p.41\n",
        "no_colors1=cones1.drop(columns='Color')\n",
        "no_colors1"
      ],
      "metadata": {
        "id": "cpkSjm8AOBRu"
      },
      "execution_count": null,
      "outputs": []
    },
    {
      "cell_type": "code",
      "source": [
        "#p.42\n",
        "cones.drop('Color')"
      ],
      "metadata": {
        "id": "T7myhAKyOQqj"
      },
      "execution_count": null,
      "outputs": []
    },
    {
      "cell_type": "code",
      "source": [
        "#p.42\n",
        "cones1.drop(columns='Color')"
      ],
      "metadata": {
        "id": "Mq7YEyLkOVKB"
      },
      "execution_count": null,
      "outputs": []
    },
    {
      "cell_type": "code",
      "source": [
        "#p.42\n",
        "#delete cols, axis =1 means delete cols\n",
        "cones1.drop(labels = 'Price', axis=1)"
      ],
      "metadata": {
        "id": "xZPcsyRbQgQL"
      },
      "execution_count": null,
      "outputs": []
    },
    {
      "cell_type": "code",
      "source": [
        "#p.42\n",
        "#delete rows, axis =0 means delete rows\n",
        "cones1=pd.read_csv('cones.csv')\n",
        "cones1.drop(labels = 3, axis=0)"
      ],
      "metadata": {
        "id": "dJdVyRBFQtkD"
      },
      "execution_count": null,
      "outputs": []
    },
    {
      "cell_type": "code",
      "source": [
        "#p.43\n",
        "cones.sort('Price')"
      ],
      "metadata": {
        "id": "5sc6Ot83TABt"
      },
      "execution_count": null,
      "outputs": []
    },
    {
      "cell_type": "code",
      "source": [
        "#p.43\n",
        "cones.sort('Price',descending=True)"
      ],
      "metadata": {
        "id": "vMoGCoMRTEt7"
      },
      "execution_count": null,
      "outputs": []
    },
    {
      "cell_type": "code",
      "source": [
        "#p.43\n",
        "cones1.sort_values(by=['Price'])"
      ],
      "metadata": {
        "id": "q2Ee1B7RTLft"
      },
      "execution_count": null,
      "outputs": []
    },
    {
      "cell_type": "code",
      "source": [
        "#p.43\n",
        "cones1.sort_values(by=['Price'],ascending=False)"
      ],
      "metadata": {
        "id": "_CmbbctdTPYx"
      },
      "execution_count": null,
      "outputs": []
    },
    {
      "cell_type": "code",
      "source": [
        "#p.44\n",
        "cones.where('Flavor','chocolate')"
      ],
      "metadata": {
        "id": "Xsuo3_DLTXtJ"
      },
      "execution_count": null,
      "outputs": []
    },
    {
      "cell_type": "code",
      "source": [
        "#p.44-45\n",
        "# Making boolean series for a cones\n",
        "filter = cones1['Flavor'] == \"chocolate\"\n",
        "filter"
      ],
      "metadata": {
        "id": "xA5PGUf8TlXx"
      },
      "execution_count": null,
      "outputs": []
    },
    {
      "cell_type": "code",
      "source": [
        "#p.44-45\n",
        "# Pass filter to cones\n",
        "cones1.loc[filter]"
      ],
      "metadata": {
        "id": "U_52RMKaVqbX"
      },
      "execution_count": null,
      "outputs": []
    },
    {
      "cell_type": "code",
      "source": [
        "#p.46\n",
        "#weird action\n",
        "cones1.where(cones1['Flavor'] == 'chocolate')"
      ],
      "metadata": {
        "id": "B4yteRpIV0tJ"
      },
      "execution_count": null,
      "outputs": []
    },
    {
      "cell_type": "code",
      "source": [
        "#p.47\n",
        "print(cones.column('Flavor'))\n",
        "print(cones.column(0))"
      ],
      "metadata": {
        "id": "cYMC3hR57wRb"
      },
      "execution_count": null,
      "outputs": []
    },
    {
      "cell_type": "code",
      "source": [
        "#p.47\n",
        "print(cones.column('Flavor').item(0))\n",
        "\n",
        "s0 = cones.column('Flavor')\n",
        "s1 = cones.column('Price')\n",
        "\n",
        "#print(np.mean(s0)) # error!\n",
        "print(np.mean(s1))"
      ],
      "metadata": {
        "id": "25FgDl5y8pZr"
      },
      "execution_count": null,
      "outputs": []
    },
    {
      "cell_type": "markdown",
      "source": [
        "# Pandas Examples - NBA dataset"
      ],
      "metadata": {
        "id": "Ku2-g5rs90MT"
      }
    },
    {
      "cell_type": "code",
      "source": [
        "import numpy as np\n",
        "import pandas as pd"
      ],
      "metadata": {
        "id": "tS5dmhjr92Wx"
      },
      "execution_count": null,
      "outputs": []
    },
    {
      "cell_type": "code",
      "source": [
        "from google.colab import files\n",
        "file_uploaded = files.upload()"
      ],
      "metadata": {
        "id": "IIcm2JRv-HWD"
      },
      "execution_count": null,
      "outputs": []
    },
    {
      "cell_type": "code",
      "source": [
        "nba_salaries = pd.read_csv('nba_salaries.csv')\n",
        "nba_salaries"
      ],
      "metadata": {
        "id": "ET1XPxf5-KcO"
      },
      "execution_count": null,
      "outputs": []
    },
    {
      "cell_type": "markdown",
      "source": [
        "<h2>Data sort</h2>"
      ],
      "metadata": {
        "id": "0kZgAPGm-ZNp"
      }
    },
    {
      "cell_type": "code",
      "source": [
        "# Show first 3 rows\n",
        "nba_salaries.iloc[:3]"
      ],
      "metadata": {
        "id": "ggGRRaX--dxO"
      },
      "execution_count": null,
      "outputs": []
    },
    {
      "cell_type": "code",
      "source": [
        "# Sort nba_salaries based on 'PLAYER' then show first 5 rows\n",
        "nba_salaries.sort_values('PLAYER').iloc[:5]"
      ],
      "metadata": {
        "id": "-V3a5M-6-fMi"
      },
      "execution_count": null,
      "outputs": []
    },
    {
      "cell_type": "code",
      "source": [
        "# Sort nba_salaries by 'SALARY'\n",
        "nba = nba_salaries.sort_values('SALARY')\n",
        "nba"
      ],
      "metadata": {
        "id": "B56nfcHY-gCY"
      },
      "execution_count": null,
      "outputs": []
    },
    {
      "cell_type": "code",
      "source": [
        "# Sort nba first by 'TEAM', then by 'SALARY'\n",
        "nba.sort_values(by=['TEAM', 'SALARY'], ascending=False)"
      ],
      "metadata": {
        "id": "xqlLkKFu-iJv"
      },
      "execution_count": null,
      "outputs": []
    },
    {
      "cell_type": "markdown",
      "source": [
        "<h2>Selecting Rows</h2>"
      ],
      "metadata": {
        "id": "rUH-d9-3-kls"
      }
    },
    {
      "cell_type": "code",
      "source": [
        "# Take the top five high salary players\n",
        "nba.sort_values('SALARY', ascending=False).iloc[:5]"
      ],
      "metadata": {
        "id": "5ifMJeGT-n1s"
      },
      "execution_count": null,
      "outputs": []
    },
    {
      "cell_type": "code",
      "source": [
        "# Filter the rows where 'SALARY' >= 10000000\n",
        "nba[nba['SALARY']>10000000]"
      ],
      "metadata": {
        "id": "-krn-bve-ot0"
      },
      "execution_count": null,
      "outputs": []
    },
    {
      "cell_type": "code",
      "source": [
        "# Filter the rows where 'SALARY' >= 10000000, then sort by 'SALARY', ascending=False\n",
        "nba[nba['SALARY']>10000000].sort_values('SALARY', ascending=False)"
      ],
      "metadata": {
        "id": "B-NOZg4f-qSp"
      },
      "execution_count": null,
      "outputs": []
    },
    {
      "cell_type": "code",
      "source": [
        "# See output\n",
        "nba['PLAYER']=='Stephen Curry'"
      ],
      "metadata": {
        "id": "CwoVZMJa-rGk"
      },
      "execution_count": null,
      "outputs": []
    },
    {
      "cell_type": "code",
      "source": [
        "# Filter the rows where 'PLARYER' == 'Stephen Curry'\n",
        "nba[nba['PLAYER']=='Stephen Curry']"
      ],
      "metadata": {
        "id": "phm8jcUX-uJP"
      },
      "execution_count": null,
      "outputs": []
    },
    {
      "cell_type": "code",
      "source": [
        "# Get a table of all the Warriors\n",
        "nba[nba['TEAM']=='Golden State Warriors']"
      ],
      "metadata": {
        "id": "RjD1-rA4-1YK"
      },
      "execution_count": null,
      "outputs": []
    },
    {
      "cell_type": "code",
      "source": [
        "# Fuzzy search for records in 'TEAM' columns containing 'Warriors'\n",
        "nba[nba['TEAM'].str.contains('Warriors', regex=False)]"
      ],
      "metadata": {
        "id": "i3q2x_T8-2j6"
      },
      "execution_count": null,
      "outputs": []
    },
    {
      "cell_type": "code",
      "source": [
        "# Filter 'POSITION' == 'PG' & 'SALARY' > 1500000\n",
        "nba[(nba['POSITION']=='PG') & (nba['SALARY']>1500000)]"
      ],
      "metadata": {
        "id": "Gj-i4BqH-3_S"
      },
      "execution_count": null,
      "outputs": []
    },
    {
      "cell_type": "markdown",
      "source": [
        "# Census Data Analysis"
      ],
      "metadata": {
        "id": "tILI0V8Y_IXT"
      }
    },
    {
      "cell_type": "code",
      "source": [
        "import numpy as np\n",
        "import pandas as pd"
      ],
      "metadata": {
        "id": "tyglEUYh_JtC"
      },
      "execution_count": null,
      "outputs": []
    },
    {
      "cell_type": "code",
      "source": [
        "# As of Mar 2023, this census file is online here:\n",
        "data = 'http://www2.census.gov/programs-surveys/popest/technical-documentation/file-layouts/2010-2019/nc-est2019-agesex-res.csv'\n",
        "\n",
        "full_census_table = pd.read_csv(data)\n",
        "full_census_table\n"
      ],
      "metadata": {
        "id": "ACKCdbMYErTM"
      },
      "execution_count": null,
      "outputs": []
    },
    {
      "cell_type": "markdown",
      "source": [
        "<h3>Analyzing Census Data for Age</h3>"
      ],
      "metadata": {
        "id": "d4jOVRGxH64i"
      }
    },
    {
      "cell_type": "code",
      "source": [
        "# Select relevant columns\n",
        "partial_census_table = full_census_table[['SEX', 'AGE', 'POPESTIMATE2014', 'POPESTIMATE2019']]\n",
        "partial_census_table"
      ],
      "metadata": {
        "id": "7e6ug2M9EujB"
      },
      "execution_count": null,
      "outputs": []
    },
    {
      "cell_type": "code",
      "source": [
        "# Simplify the columns name\n",
        "us_pop = partial_census_table.rename(columns= {'POPESTIMATE2014': '2014', 'POPESTIMATE2019': '2019'})\n",
        "us_pop"
      ],
      "metadata": {
        "id": "6jRqGGfPFapI"
      },
      "execution_count": null,
      "outputs": []
    },
    {
      "cell_type": "code",
      "source": [
        "# Filter the records between 97 and 100, regardless sex\n",
        "filter = (us_pop['SEX']==0) & (97<=us_pop['AGE']) & (us_pop['AGE']<=100)\n",
        "us_pop_by_high_ages = us_pop[filter]\n",
        "us_pop_by_high_ages.drop(columns='SEX')"
      ],
      "metadata": {
        "id": "SiybFziEFmNz"
      },
      "execution_count": null,
      "outputs": []
    },
    {
      "cell_type": "code",
      "source": [
        "filter = us_pop['SEX']==0\n",
        "us_pop_ages = us_pop[filter]\n",
        "us_pop_ages.drop(columns='SEX')"
      ],
      "metadata": {
        "id": "OiKTBmVuGEJB"
      },
      "execution_count": null,
      "outputs": []
    },
    {
      "cell_type": "code",
      "source": [
        "change=us_pop_ages['2019'] - us_pop_ages['2014']\n",
        "change"
      ],
      "metadata": {
        "id": "v16PEX8lGKG6"
      },
      "execution_count": null,
      "outputs": []
    },
    {
      "cell_type": "code",
      "source": [
        "# Make a new df census from us_pop, then add two new columns\n",
        "us_pop_change = us_pop_ages.drop(columns='SEX').copy()\n",
        "us_pop_change['Change']=change\n",
        "us_pop_change['Percent Change']=change/us_pop_change['2014']\n",
        "us_pop_change.style.format({'Percent Change': '{:.2%}'})\n"
      ],
      "metadata": {
        "id": "lJ_ieGqUGNCP"
      },
      "execution_count": null,
      "outputs": []
    },
    {
      "cell_type": "code",
      "source": [
        "overall_change=us_pop_change[us_pop_change['AGE']==999]\n",
        "overall_change.style.format({'Percent Change': '{:.2%}'})"
      ],
      "metadata": {
        "id": "PROHug8HGNeu"
      },
      "execution_count": null,
      "outputs": []
    },
    {
      "cell_type": "code",
      "source": [
        "# Sort census by Change, ascending=False\n",
        "us_pop_change.sort_values(by='Change', ascending=False).style.format({'Percent Change': '{:.2%}'})"
      ],
      "metadata": {
        "id": "eQdVOMwMGrMP"
      },
      "execution_count": null,
      "outputs": []
    },
    {
      "cell_type": "markdown",
      "source": [
        "<h3>Analyzing Census Data for Gender</h3>"
      ],
      "metadata": {
        "id": "pmsmECs3H-3_"
      }
    },
    {
      "cell_type": "code",
      "source": [
        "# As of Mar 2023, this census file is online here:\n",
        "data = 'http://www2.census.gov/programs-surveys/popest/technical-documentation/file-layouts/2010-2019/nc-est2019-agesex-res.csv'\n",
        "\n",
        "full_census_table= pd.read_csv(data)\n",
        "full_census_table"
      ],
      "metadata": {
        "id": "zRjR61PtIENO"
      },
      "execution_count": null,
      "outputs": []
    },
    {
      "cell_type": "code",
      "source": [
        "# Select relevant columns\n",
        "partial_census_table = full_census_table[['SEX', 'AGE', 'POPESTIMATE2014', 'POPESTIMATE2019']]\n",
        "partial_census_table"
      ],
      "metadata": {
        "id": "3wuR2DpJIJfT"
      },
      "execution_count": null,
      "outputs": []
    },
    {
      "cell_type": "code",
      "source": [
        "# Simplify the columns name\n",
        "us_pop = partial_census_table.rename(columns=\t{'POPESTIMATE2014': '2014', 'POPESTIMATE2019': '2019'})\n",
        "us_pop"
      ],
      "metadata": {
        "id": "SGMtY5X2IKRx"
      },
      "execution_count": null,
      "outputs": []
    },
    {
      "cell_type": "code",
      "source": [
        "# Drop column '2010' then filter 'AGE'==999\n",
        "us_pop_2019 = us_pop.drop(columns='2014')\n",
        "all_ages = us_pop_2019[us_pop_2019['AGE']==999]\n",
        "all_ages"
      ],
      "metadata": {
        "id": "eePfFNSVIK98"
      },
      "execution_count": null,
      "outputs": []
    },
    {
      "cell_type": "code",
      "source": [
        "# Add a column Proportion\n",
        "pop_2019 = all_ages[all_ages['SEX']==0]['2019'].item()\n",
        "all_ages.loc[:, 'Proportion'] = all_ages['2019']/pop_2019\n",
        "all_ages.style.format({'Proportion':'{:.2%}'})"
      ],
      "metadata": {
        "id": "cBe0NcbTILzO"
      },
      "execution_count": null,
      "outputs": []
    },
    {
      "cell_type": "code",
      "source": [
        "# Filter AGE == 0\n",
        "infants = us_pop_2019[us_pop_2019.AGE==0]\n",
        "infants"
      ],
      "metadata": {
        "id": "lqvgYeG_KBe5"
      },
      "execution_count": null,
      "outputs": []
    },
    {
      "cell_type": "code",
      "source": [
        "# Add a column Proportion\n",
        "infants.loc[:,'Proportion'] = infants['2019']/([infants.iloc[0, 2]]*3)\n",
        "infants.style.format({'Proportion':'{:.2%}'})"
      ],
      "metadata": {
        "id": "NhZ3sWS_KHae"
      },
      "execution_count": null,
      "outputs": []
    },
    {
      "cell_type": "code",
      "source": [
        "# Get all females data except total age 999\n",
        "females = us_pop_2019[(us_pop_2019.SEX==2) & (us_pop_2019.AGE!=999)]\n",
        "females"
      ],
      "metadata": {
        "id": "Fyjhh5qSKfN0"
      },
      "execution_count": null,
      "outputs": []
    },
    {
      "cell_type": "code",
      "source": [
        "# Get all males data except total age 999\n",
        "males = us_pop_2019[(us_pop_2019.SEX==1) & (us_pop_2019.AGE!=999)]\n",
        "males"
      ],
      "metadata": {
        "id": "hkoWTCpLKgqK"
      },
      "execution_count": null,
      "outputs": []
    },
    {
      "cell_type": "code",
      "source": [
        "# Make a new df ratios\n",
        "ratios = pd.DataFrame({'AGE': females.AGE, '2019 F:M RATIO': np.array(females['2019'])/np.array(males['2019'])})\n",
        "ratios.style.format({'2019 F:M RATIO':'{:.2%}'})"
      ],
      "metadata": {
        "id": "F1SDxslPKhvp"
      },
      "execution_count": null,
      "outputs": []
    },
    {
      "cell_type": "code",
      "source": [
        "# Filter the ratios more than 75\n",
        "ratios[ratios.AGE>75]\n",
        "# or ratios[ratios['AGE']>75]"
      ],
      "metadata": {
        "id": "pXX6cRCGKjdU"
      },
      "execution_count": null,
      "outputs": []
    },
    {
      "cell_type": "code",
      "source": [
        "%matplotlib inline\n",
        "ratios.plot('AGE')"
      ],
      "metadata": {
        "id": "y75ySIvGKkNa"
      },
      "execution_count": null,
      "outputs": []
    },
    {
      "cell_type": "code",
      "source": [
        "import plotly.express as px\n",
        "fig = px.line(ratios, x='AGE', y='2019 F:M RATIO')\n",
        "fig.show()"
      ],
      "metadata": {
        "id": "jgTx3HjSL2_t"
      },
      "execution_count": null,
      "outputs": []
    }
  ]
}