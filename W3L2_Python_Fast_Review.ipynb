{
  "cells": [
    {
      "cell_type": "markdown",
      "metadata": {
        "id": "view-in-github",
        "colab_type": "text"
      },
      "source": [
        "<a href=\"https://colab.research.google.com/github/rkrzy/data_analysis/blob/main/W3L2_Python_Fast_Review.ipynb\" target=\"_parent\"><img src=\"https://colab.research.google.com/assets/colab-badge.svg\" alt=\"Open In Colab\"/></a>"
      ]
    },
    {
      "cell_type": "markdown",
      "metadata": {
        "id": "5QsguxWvUBV5"
      },
      "source": [
        "# PNUCSE 데이터과학입문  \n",
        "## 3주차 실습자료  \n",
        "### 교강사: 박영진, youngjinpark@pusan.ac.kr\n",
        "---\n",
        "\n",
        "## 실습 목표\n",
        "\n",
        "- Python Review\n",
        "- Types\n",
        "- Array\n"
      ]
    },
    {
      "cell_type": "markdown",
      "metadata": {
        "id": "eGDtkttOIQDj"
      },
      "source": [
        "#Python Review"
      ]
    },
    {
      "cell_type": "code",
      "execution_count": null,
      "metadata": {
        "id": "fWoZ1VSqcZRn"
      },
      "outputs": [],
      "source": [
        "# p.4\n",
        "print(64 / 8)"
      ]
    },
    {
      "cell_type": "code",
      "execution_count": null,
      "metadata": {
        "id": "FJ99W1t2HLaz",
        "colab": {
          "base_uri": "https://localhost:8080/"
        },
        "outputId": "e3069de6-1f9b-4d01-cd9e-5d0cb4c1dc72"
      },
      "outputs": [
        {
          "output_type": "stream",
          "name": "stdout",
          "text": [
            "168\n"
          ]
        }
      ],
      "source": [
        "# p.5\n",
        "hours_per_wk = 24 * 7\n",
        "print(hours_per_wk)"
      ]
    },
    {
      "cell_type": "code",
      "execution_count": null,
      "metadata": {
        "id": "dGtIDhRM0Iop"
      },
      "outputs": [],
      "source": [
        "# p.8, 에러 발생 유도함.\n",
        "abs(-1, 2)"
      ]
    },
    {
      "cell_type": "code",
      "execution_count": null,
      "metadata": {
        "id": "akEjvHrZH1bj"
      },
      "outputs": [],
      "source": [
        "# p.8\n",
        "a = abs(-10)\n",
        "print(a)"
      ]
    },
    {
      "cell_type": "code",
      "execution_count": null,
      "metadata": {
        "id": "RvXw00LUH-9f",
        "colab": {
          "base_uri": "https://localhost:8080/"
        },
        "outputId": "32575470-d48a-4d2b-9d9d-20fd3aa64c08"
      },
      "outputs": [
        {
          "output_type": "stream",
          "name": "stdout",
          "text": [
            "13\n"
          ]
        }
      ],
      "source": [
        "# p.8\n",
        "a = round(number=12.74)\n",
        "print(a)"
      ]
    },
    {
      "cell_type": "code",
      "execution_count": null,
      "metadata": {
        "id": "FEk6CPgEgJ5k"
      },
      "outputs": [],
      "source": [
        "# p.8\n",
        "abs?"
      ]
    },
    {
      "cell_type": "markdown",
      "metadata": {
        "id": "a5KNxo_tIVzF"
      },
      "source": [
        "#Types"
      ]
    },
    {
      "cell_type": "code",
      "execution_count": null,
      "metadata": {
        "id": "tlhoSNruIPWW",
        "colab": {
          "base_uri": "https://localhost:8080/"
        },
        "outputId": "6d2a8e6d-6789-4375-dc56-1b413faf7b7c"
      },
      "outputs": [
        {
          "output_type": "stream",
          "name": "stdout",
          "text": [
            "1.000005\n",
            "1.0000000000000004\n",
            "1.0\n"
          ]
        }
      ],
      "source": [
        "# p.10, float형 정밀도 확인을 위한 코드\n",
        "a = 1.000005\n",
        "b = 1.0000000000000005\n",
        "c = 1.00000000000000005\n",
        "print(a)\n",
        "print(b)\n",
        "print(c)"
      ]
    },
    {
      "cell_type": "code",
      "execution_count": null,
      "metadata": {
        "id": "LUTQl5RB1PyL",
        "colab": {
          "base_uri": "https://localhost:8080/"
        },
        "outputId": "6aeb3861-5afa-46a1-b784-6e50769edbf8"
      },
      "outputs": [
        {
          "output_type": "stream",
          "name": "stdout",
          "text": [
            "13.2\n"
          ]
        }
      ],
      "source": [
        "# p.11\n",
        "a = int('12')\n",
        "b = float('1.2')\n",
        "print(a + b)"
      ]
    },
    {
      "cell_type": "code",
      "execution_count": null,
      "metadata": {
        "id": "w6PnPdvk1kY2",
        "colab": {
          "base_uri": "https://localhost:8080/",
          "height": 180
        },
        "outputId": "3995a2d4-a75a-4d2a-9336-0d815532bd44"
      },
      "outputs": [
        {
          "output_type": "error",
          "ename": "TypeError",
          "evalue": "unsupported operand type(s) for +: 'int' and 'str'",
          "traceback": [
            "\u001b[0;31m---------------------------------------------------------------------------\u001b[0m",
            "\u001b[0;31mTypeError\u001b[0m                                 Traceback (most recent call last)",
            "\u001b[0;32m<ipython-input-7-1a722bbfa8f6>\u001b[0m in \u001b[0;36m<cell line: 0>\u001b[0;34m()\u001b[0m\n\u001b[1;32m      1\u001b[0m \u001b[0;31m# p.11, 에러 발생 유도함.\u001b[0m\u001b[0;34m\u001b[0m\u001b[0;34m\u001b[0m\u001b[0m\n\u001b[1;32m      2\u001b[0m \u001b[0ma\u001b[0m \u001b[0;34m=\u001b[0m \u001b[0mstr\u001b[0m\u001b[0;34m(\u001b[0m\u001b[0;36m5\u001b[0m\u001b[0;34m)\u001b[0m\u001b[0;34m\u001b[0m\u001b[0;34m\u001b[0m\u001b[0m\n\u001b[0;32m----> 3\u001b[0;31m \u001b[0mprint\u001b[0m\u001b[0;34m(\u001b[0m\u001b[0;36m4\u001b[0m \u001b[0;34m+\u001b[0m \u001b[0ma\u001b[0m\u001b[0;34m)\u001b[0m\u001b[0;34m\u001b[0m\u001b[0;34m\u001b[0m\u001b[0m\n\u001b[0m",
            "\u001b[0;31mTypeError\u001b[0m: unsupported operand type(s) for +: 'int' and 'str'"
          ]
        }
      ],
      "source": [
        "# p.11, 에러 발생 유도함.\n",
        "a = str(5)\n",
        "print(4 + a)"
      ]
    },
    {
      "cell_type": "code",
      "execution_count": null,
      "metadata": {
        "id": "6K-8C6qM1zI2"
      },
      "outputs": [],
      "source": [
        "# p.12, 에러 발생 유도함.\n",
        "a = float('one point two')"
      ]
    },
    {
      "cell_type": "code",
      "execution_count": null,
      "metadata": {
        "id": "9Mh8KiV-2OI0",
        "colab": {
          "base_uri": "https://localhost:8080/"
        },
        "outputId": "c025f56f-d72c-4220-cb74-75cf37910b1c"
      },
      "outputs": [
        {
          "output_type": "stream",
          "name": "stdout",
          "text": [
            "1\n"
          ]
        }
      ],
      "source": [
        "# p.12\n",
        "a = int(1.2)\n",
        "print(a)"
      ]
    },
    {
      "cell_type": "code",
      "execution_count": null,
      "metadata": {
        "id": "lIzC7x5Y2SwO",
        "colab": {
          "base_uri": "https://localhost:8080/",
          "height": 216
        },
        "outputId": "5c4f6a8c-6bc3-4a92-f36d-587454ecd353"
      },
      "outputs": [
        {
          "output_type": "error",
          "ename": "TypeError",
          "evalue": "unsupported operand type(s) for +: 'int' and 'str'",
          "traceback": [
            "\u001b[0;31m---------------------------------------------------------------------------\u001b[0m",
            "\u001b[0;31mTypeError\u001b[0m                                 Traceback (most recent call last)",
            "\u001b[0;32m<ipython-input-10-1c5d591f1ae0>\u001b[0m in \u001b[0;36m<cell line: 0>\u001b[0;34m()\u001b[0m\n\u001b[1;32m      4\u001b[0m \u001b[0mz\u001b[0m \u001b[0;34m=\u001b[0m \u001b[0;34m'5.6'\u001b[0m\u001b[0;34m\u001b[0m\u001b[0;34m\u001b[0m\u001b[0m\n\u001b[1;32m      5\u001b[0m \u001b[0;34m\u001b[0m\u001b[0m\n\u001b[0;32m----> 6\u001b[0;31m \u001b[0mprint\u001b[0m\u001b[0;34m(\u001b[0m\u001b[0mx\u001b[0m \u001b[0;34m+\u001b[0m \u001b[0my\u001b[0m\u001b[0;34m)\u001b[0m\u001b[0;34m\u001b[0m\u001b[0;34m\u001b[0m\u001b[0m\n\u001b[0m\u001b[1;32m      7\u001b[0m \u001b[0mprint\u001b[0m\u001b[0;34m(\u001b[0m\u001b[0mx\u001b[0m \u001b[0;34m+\u001b[0m \u001b[0mint\u001b[0m\u001b[0;34m(\u001b[0m\u001b[0my\u001b[0m \u001b[0;34m+\u001b[0m \u001b[0mz\u001b[0m\u001b[0;34m)\u001b[0m\u001b[0;34m)\u001b[0m\u001b[0;34m\u001b[0m\u001b[0;34m\u001b[0m\u001b[0m\n\u001b[1;32m      8\u001b[0m \u001b[0mprint\u001b[0m\u001b[0;34m(\u001b[0m\u001b[0mstr\u001b[0m\u001b[0;34m(\u001b[0m\u001b[0mx\u001b[0m\u001b[0;34m)\u001b[0m \u001b[0;34m+\u001b[0m \u001b[0mint\u001b[0m\u001b[0;34m(\u001b[0m\u001b[0my\u001b[0m\u001b[0;34m)\u001b[0m\u001b[0;34m)\u001b[0m\u001b[0;34m\u001b[0m\u001b[0;34m\u001b[0m\u001b[0m\n",
            "\u001b[0;31mTypeError\u001b[0m: unsupported operand type(s) for +: 'int' and 'str'"
          ]
        }
      ],
      "source": [
        "# p.13, 에러 발생 유도함.\n",
        "x = 3\n",
        "y = '4'\n",
        "z = '5.6'\n",
        "\n",
        "print(x + y)\n",
        "print(x + int(y + z))\n",
        "print(str(x) + int(y))\n",
        "print(y + float(z))"
      ]
    },
    {
      "cell_type": "code",
      "execution_count": null,
      "metadata": {
        "id": "0t70Oq7S2pe-",
        "colab": {
          "base_uri": "https://localhost:8080/"
        },
        "outputId": "cf54645e-a979-40ae-aca6-5428a6a7901b"
      },
      "outputs": [
        {
          "output_type": "stream",
          "name": "stdout",
          "text": [
            "<class 'int'>\n",
            "<class 'int'>\n",
            "<class 'int'>\n"
          ]
        }
      ],
      "source": [
        "# p.14\n",
        "print(type(2))\n",
        "print(type(2 + 2))\n",
        "x = 2\n",
        "print(type(x))"
      ]
    },
    {
      "cell_type": "markdown",
      "metadata": {
        "id": "TBhKwNqp3GXs"
      },
      "source": [
        "#Arrays"
      ]
    },
    {
      "cell_type": "code",
      "execution_count": null,
      "metadata": {
        "id": "dZ-V5b_E3FhV",
        "colab": {
          "base_uri": "https://localhost:8080/"
        },
        "outputId": "f52ba0f0-ee36-4e02-b5c7-ac219af93cdf"
      },
      "outputs": [
        {
          "output_type": "execute_result",
          "data": {
            "text/plain": [
              "array(['noun', 'pronoun', 'verb', 'adverb', 'adjective', 'conjunction',\n",
              "       'preposition', 'interjection'],\n",
              "      dtype='<U12')"
            ]
          },
          "metadata": {},
          "execution_count": 12
        }
      ],
      "source": [
        "# p.18\n",
        "from datascience import *\n",
        "english_parts_of_speech = make_array(\"noun\", \"pronoun\", \"verb\", \"adverb\", \"adjective\", \"conjunction\", \"preposition\", \"interjection\")\n",
        "english_parts_of_speech"
      ]
    },
    {
      "cell_type": "code",
      "execution_count": null,
      "metadata": {
        "id": "hTzCvhJm4Lh-",
        "colab": {
          "base_uri": "https://localhost:8080/"
        },
        "outputId": "ab4e4685-5009-4f49-c8c1-1efd2cdea9a2"
      },
      "outputs": [
        {
          "output_type": "stream",
          "name": "stdout",
          "text": [
            "[1 2 3]\n",
            "[4 5 6]\n",
            "[5 7 9]\n"
          ]
        }
      ],
      "source": [
        "# p.18\n",
        "import numpy as np\n",
        "eps_arr = np.array([\"noun\", \"pronoun\", \"verb\", \"adverb\", \"adjective\", \"conjunction\", \"preposition\", \"interjection\"])\n",
        "eps_arr\n",
        "\n",
        "arr1 = np.array([1,2,3])\n",
        "print(arr1)\n",
        "arr2 = np.array([4,5,6])\n",
        "print(arr2)\n",
        "print(arr1 + arr2)"
      ]
    },
    {
      "cell_type": "code",
      "execution_count": null,
      "metadata": {
        "id": "9-mY687X4YTh"
      },
      "outputs": [],
      "source": [
        "# p.19\n",
        "baseline_high = 14.48\n",
        "highs = make_array(baseline_high - 0.880, baseline_high - 0.093, baseline_high + 0.105, baseline_high + 0.684)\n",
        "highs"
      ]
    },
    {
      "cell_type": "code",
      "execution_count": null,
      "metadata": {
        "id": "Sd7CB2Gr4gP-"
      },
      "outputs": [],
      "source": [
        "# p.19\n",
        "baseline_high = 14.48\n",
        "highs = np.array([baseline_high - 0.880, baseline_high - 0.093, baseline_high + 0.105, baseline_high + 0.684])\n",
        "highs"
      ]
    },
    {
      "cell_type": "code",
      "execution_count": null,
      "metadata": {
        "id": "js5lZgBF4l3d"
      },
      "outputs": [],
      "source": [
        "# p.19\n",
        "baseline_low = 3.00\n",
        "lows = np.array([baseline_low - 0.872, baseline_low - 0.629, baseline_low - 0.126, baseline_low + 0.728])\n",
        "lows"
      ]
    },
    {
      "cell_type": "code",
      "execution_count": null,
      "metadata": {
        "id": "FtGhWPZg4y5Y",
        "colab": {
          "base_uri": "https://localhost:8080/",
          "height": 216
        },
        "outputId": "77115b46-4f37-43b0-bb0b-471e31eb9ab1"
      },
      "outputs": [
        {
          "output_type": "error",
          "ename": "NameError",
          "evalue": "name 'highs' is not defined",
          "traceback": [
            "\u001b[0;31m---------------------------------------------------------------------------\u001b[0m",
            "\u001b[0;31mNameError\u001b[0m                                 Traceback (most recent call last)",
            "\u001b[0;32m<ipython-input-16-6508e9075b14>\u001b[0m in \u001b[0;36m<cell line: 0>\u001b[0;34m()\u001b[0m\n\u001b[1;32m      1\u001b[0m \u001b[0;31m# p.20\u001b[0m\u001b[0;34m\u001b[0m\u001b[0;34m\u001b[0m\u001b[0m\n\u001b[1;32m      2\u001b[0m np.array([\n\u001b[0;32m----> 3\u001b[0;31m     \u001b[0mhighs\u001b[0m\u001b[0;34m.\u001b[0m\u001b[0mitem\u001b[0m\u001b[0;34m(\u001b[0m\u001b[0;36m0\u001b[0m\u001b[0;34m)\u001b[0m \u001b[0;34m-\u001b[0m \u001b[0mlows\u001b[0m\u001b[0;34m.\u001b[0m\u001b[0mitem\u001b[0m\u001b[0;34m(\u001b[0m\u001b[0;36m0\u001b[0m\u001b[0;34m)\u001b[0m\u001b[0;34m,\u001b[0m\u001b[0;34m\u001b[0m\u001b[0;34m\u001b[0m\u001b[0m\n\u001b[0m\u001b[1;32m      4\u001b[0m     \u001b[0mhighs\u001b[0m\u001b[0;34m.\u001b[0m\u001b[0mitem\u001b[0m\u001b[0;34m(\u001b[0m\u001b[0;36m1\u001b[0m\u001b[0;34m)\u001b[0m \u001b[0;34m-\u001b[0m \u001b[0mlows\u001b[0m\u001b[0;34m.\u001b[0m\u001b[0mitem\u001b[0m\u001b[0;34m(\u001b[0m\u001b[0;36m1\u001b[0m\u001b[0;34m)\u001b[0m\u001b[0;34m,\u001b[0m\u001b[0;34m\u001b[0m\u001b[0;34m\u001b[0m\u001b[0m\n\u001b[1;32m      5\u001b[0m     \u001b[0mhighs\u001b[0m\u001b[0;34m.\u001b[0m\u001b[0mitem\u001b[0m\u001b[0;34m(\u001b[0m\u001b[0;36m2\u001b[0m\u001b[0;34m)\u001b[0m \u001b[0;34m-\u001b[0m \u001b[0mlows\u001b[0m\u001b[0;34m.\u001b[0m\u001b[0mitem\u001b[0m\u001b[0;34m(\u001b[0m\u001b[0;36m2\u001b[0m\u001b[0;34m)\u001b[0m\u001b[0;34m,\u001b[0m\u001b[0;34m\u001b[0m\u001b[0;34m\u001b[0m\u001b[0m\n",
            "\u001b[0;31mNameError\u001b[0m: name 'highs' is not defined"
          ]
        }
      ],
      "source": [
        "# p.20\n",
        "np.array([\n",
        "    highs.item(0) - lows.item(0),\n",
        "    highs.item(1) - lows.item(1),\n",
        "    highs.item(2) - lows.item(2),\n",
        "    highs.item(3) - lows.item(3)\n",
        "])\n",
        "highs - lows"
      ]
    },
    {
      "cell_type": "code",
      "execution_count": null,
      "metadata": {
        "id": "BLpTmFdK5McK"
      },
      "outputs": [],
      "source": [
        "# p.21\n",
        "arr = np.array([0.0, 1.0, 2.0, 3.0])\n",
        "\n",
        "a = np.prod(arr)\n",
        "print(a)\n",
        "\n",
        "b = np.sum(arr)\n",
        "print(b)\n",
        "\n",
        "c = np.all(arr)\n",
        "print(c)\n",
        "\n",
        "d = np.any(arr)\n",
        "print(d)\n",
        "\n",
        "e = np.count_nonzero(arr)\n",
        "print(e)"
      ]
    },
    {
      "cell_type": "code",
      "execution_count": null,
      "metadata": {
        "id": "zXJXCRSd6B6o"
      },
      "outputs": [],
      "source": [
        "# p.23\n",
        "a = np.arange(5)\n",
        "print(a)\n",
        "\n",
        "b = np.arange(3, 9)\n",
        "print(b)\n",
        "\n",
        "c = np.arange(start=3, stop=9)\n",
        "print(c)\n",
        "\n",
        "d = np.arange(1.5, -2, -0.5)\n",
        "print(d)\n",
        "\n",
        "e = np.arange(start=1.5, stop=-2, step=-0.5)\n",
        "print(e)"
      ]
    },
    {
      "cell_type": "code",
      "execution_count": null,
      "metadata": {
        "id": "CN1vRu4h7otw"
      },
      "outputs": [],
      "source": [
        "# p.25\n",
        "by_four_to_20 = np.arange(1, 20, 4)\n",
        "by_four_to_20"
      ]
    },
    {
      "cell_type": "code",
      "execution_count": null,
      "metadata": {
        "id": "YpISsnEL8PjS"
      },
      "outputs": [],
      "source": [
        "# p.25\n",
        "positive_term_denominators = np.arange(1, 10000, 4)\n",
        "positive_term_denominators"
      ]
    },
    {
      "cell_type": "code",
      "execution_count": null,
      "metadata": {
        "id": "RR6ipE108TYJ"
      },
      "outputs": [],
      "source": [
        "# p.25\n",
        "positive_terms = 1 / positive_term_denominators\n",
        "negative_terms = 1 / (positive_term_denominators + 2)\n",
        "\n",
        "4 * (sum(positive_terms) - sum(negative_terms))"
      ]
    },
    {
      "cell_type": "code",
      "execution_count": null,
      "metadata": {
        "id": "CPe4roXB8hMG"
      },
      "outputs": [],
      "source": [
        "# p.26\n",
        "even = np.arange(2, 1000001, 2)\n",
        "one_below_even = even - 1\n",
        "one_above_even = even + 1\n",
        "\n",
        "2 * np.prod(even/one_below_even) * np.prod(even/one_above_even)"
      ]
    }
  ],
  "metadata": {
    "colab": {
      "provenance": [],
      "include_colab_link": true
    },
    "kernelspec": {
      "display_name": "Python 3",
      "name": "python3"
    },
    "language_info": {
      "name": "python"
    }
  },
  "nbformat": 4,
  "nbformat_minor": 0
}