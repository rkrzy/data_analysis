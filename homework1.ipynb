{
  "nbformat": 4,
  "nbformat_minor": 0,
  "metadata": {
    "colab": {
      "provenance": [],
      "authorship_tag": "ABX9TyNtOrDLlagVe7dvRPAOiBZc",
      "include_colab_link": true
    },
    "kernelspec": {
      "name": "python3",
      "display_name": "Python 3"
    },
    "language_info": {
      "name": "python"
    }
  },
  "cells": [
    {
      "cell_type": "markdown",
      "metadata": {
        "id": "view-in-github",
        "colab_type": "text"
      },
      "source": [
        "<a href=\"https://colab.research.google.com/github/rkrzy/data_analysis/blob/main/homework1.ipynb\" target=\"_parent\"><img src=\"https://colab.research.google.com/assets/colab-badge.svg\" alt=\"Open In Colab\"/></a>"
      ]
    },
    {
      "cell_type": "code",
      "execution_count": 11,
      "metadata": {
        "colab": {
          "base_uri": "https://localhost:8080/"
        },
        "id": "wjOQVS5BXCiz",
        "outputId": "f5a433d9-8153-4943-9f28-6915afe7ef9c"
      },
      "outputs": [
        {
          "output_type": "stream",
          "name": "stdout",
          "text": [
            "[문제1]\n",
            "짝수 합: 2550\n",
            "홀수 합: 2500\n"
          ]
        }
      ],
      "source": [
        "#문제 1\n",
        "#1부터 100까지(100 포함), 간격(step)이 1인 NumPy 배열을 만드세요.\n",
        "#모든 짝수들의 합과 모든 홀수들의 합을 각각 구해서 출력하세요.\n",
        "\n",
        "import numpy as np\n",
        "\n",
        "arr = np.arange(1, 101)  # 1부터 100까지\n",
        "even_sum = np.sum(arr[arr % 2 == 0])  # 짝수만 더해준다\n",
        "odd_sum = np.sum(arr[arr % 2 == 1])   # 홀수만 더해준다\n",
        "\n",
        "print(\"짝수 합:\", even_sum)\n",
        "print(\"홀수 합:\", odd_sum)\n"
      ]
    },
    {
      "cell_type": "code",
      "source": [
        "# 문제 2 풀이\n",
        "# 요구사항\n",
        "# 행렬 A, B 구성\n",
        "\n",
        "# A+B, A-B, A·B, A^T, B^T 수행\n",
        "\n",
        "import numpy as np\n",
        "\n",
        "A = np.array([[2, 4],\n",
        "              [1, 3]])\n",
        "B = np.array([[5, 2],\n",
        "              [7, 1]])\n",
        "\n",
        "print(\"A + B =\\n\", A + B)\n",
        "print(\"A - B =\\n\", A - B)\n",
        "print(\"A dot B =\\n\", np.dot(A, B))\n",
        "print(\"A^T =\\n\", A.T)\n",
        "print(\"B^T =\\n\", B.T)"
      ],
      "metadata": {
        "colab": {
          "base_uri": "https://localhost:8080/"
        },
        "id": "FGP0EmblXho9",
        "outputId": "11e91af2-cc57-4b80-c1a9-d87b98a70458"
      },
      "execution_count": 13,
      "outputs": [
        {
          "output_type": "stream",
          "name": "stdout",
          "text": [
            "\n",
            "[문제2]\n",
            "A + B =\n",
            " [[7 6]\n",
            " [8 4]]\n",
            "A - B =\n",
            " [[-3  2]\n",
            " [-6  2]]\n",
            "A dot B =\n",
            " [[38  8]\n",
            " [26  5]]\n",
            "A^T =\n",
            " [[2 1]\n",
            " [4 3]]\n",
            "B^T =\n",
            " [[5 7]\n",
            " [2 1]]\n"
          ]
        }
      ]
    },
    {
      "cell_type": "code",
      "source": [
        "# 문제 3 풀이\n",
        "# 요구사항\n",
        "# nba_salaries.csv 파일에서, 각 시즌마다 최고 연봉과 최저 연봉의 차이 구하기\n",
        "\n",
        "import pandas as pd\n",
        "\n",
        "df = pd.read_csv('nba_salaries.csv')\n",
        "\n",
        "grouped = df.groupby('SEASON')['SALARY']\n",
        "\n",
        "\n",
        "for season, group in grouped:\n",
        "    max_salary = group.max()\n",
        "    min_salary = group.min()\n",
        "    diff = max_salary - min_salary\n",
        "    print(f\"Season {season}: {diff}\")\n"
      ],
      "metadata": {
        "colab": {
          "base_uri": "https://localhost:8080/"
        },
        "id": "cem--pqiXGrb",
        "outputId": "9771618f-535a-4deb-954e-9c3bdb5e6de2"
      },
      "execution_count": 14,
      "outputs": [
        {
          "output_type": "stream",
          "name": "stdout",
          "text": [
            "Season 2000: 16841000\n",
            "Season 2001: 19576000\n",
            "Season 2002: 22163000\n",
            "Season 2003: 24688000\n",
            "Season 2004: 27413000\n",
            "Season 2005: 28087000\n",
            "Season 2006: 19751882\n",
            "Season 2007: 20976557\n",
            "Season 2008: 23747401\n",
            "Season 2009: 24705017\n",
            "Season 2010: 23031683\n",
            "Season 2011: 24797892\n",
            "Season 2012: 25233035\n",
            "Season 2013: 30433702\n",
            "Season 2014: 30445573\n",
            "Season 2015: 23470517\n",
            "Season 2016: 24969112\n",
            "Season 2017: 30957683\n",
            "Season 2018: 37452546\n",
            "Season 2019: 37452417\n",
            "Season 2020: 40076111\n"
          ]
        }
      ]
    },
    {
      "cell_type": "code",
      "source": [
        "# 문제 4 풀이\n",
        "# 요구사항\n",
        "# SEASON, TEAM으로 그룹화\n",
        "# 각 팀별 총연봉 합\n",
        "# 각 시즌마다\n",
        "# 가장 연봉 합이 높은 팀 (금액)\n",
        "# 가장 연봉 합이 낮은 팀 (금액)\n",
        "\n",
        "import pandas as pd\n",
        "\n",
        "df = pd.read_csv('nba_salaries.csv')\n",
        "\n",
        "grouped = df.groupby(['SEASON', 'TEAM'], as_index=False)['SALARY'].sum()\n",
        "\n",
        "\n",
        "season_grouped = grouped.groupby('SEASON')\n",
        "\n",
        "for season, sub_df in season_grouped:\n",
        "    max_row = sub_df.loc[sub_df['SALARY'].idxmax()]  # SALARY 최댓값 행\n",
        "    min_row = sub_df.loc[sub_df['SALARY'].idxmin()]  # SALARY 최솟값 행\n",
        "\n",
        "    max_team, max_salary = max_row['TEAM'], max_row['SALARY']\n",
        "    min_team, min_salary = min_row['TEAM'], min_row['SALARY']\n",
        "\n",
        "    print(f\"\\nSeason {season}:\")\n",
        "    print(f\"가장 높은 총 연봉: 팀={max_team}, 금액={max_salary}\")\n",
        "    print(f\"가장 낮은 총 연봉: 팀={min_team}, 금액={min_salary}\")\n"
      ],
      "metadata": {
        "colab": {
          "base_uri": "https://localhost:8080/"
        },
        "id": "ih9UWxtIZu4l",
        "outputId": "d252c330-782b-4fff-b2e5-3a701584b336"
      },
      "execution_count": 16,
      "outputs": [
        {
          "output_type": "stream",
          "name": "stdout",
          "text": [
            "\n",
            "Season 2000:\n",
            "가장 높은 총 연봉: 팀=Portland Trail Blazers, 금액=49423000\n",
            "가장 낮은 총 연봉: 팀=Chicago Bulls, 금액=4454000\n",
            "\n",
            "Season 2001:\n",
            "가장 높은 총 연봉: 팀=Portland Trail Blazers, 금액=84918000\n",
            "가장 낮은 총 연봉: 팀=Atlanta Hawks, 금액=19721000\n",
            "\n",
            "Season 2002:\n",
            "가장 높은 총 연봉: 팀=Portland Trail Blazers, 금액=83995000\n",
            "가장 낮은 총 연봉: 팀=Chicago Bulls, 금액=24038000\n",
            "\n",
            "Season 2003:\n",
            "가장 높은 총 연봉: 팀=Portland Trail Blazers, 금액=77424000\n",
            "가장 낮은 총 연봉: 팀=LA Clippers, 금액=25449000\n",
            "\n",
            "Season 2004:\n",
            "가장 높은 총 연봉: 팀=New York Knicks, 금액=107898000\n",
            "가장 낮은 총 연봉: 팀=Boston Celtics, 금액=2104000\n",
            "\n",
            "Season 2005:\n",
            "가장 높은 총 연봉: 팀=New York Knicks, 금액=108616000\n",
            "가장 낮은 총 연봉: 팀=New Orleans Hornets, 금액=5474000\n",
            "\n",
            "Season 2006:\n",
            "가장 높은 총 연봉: 팀=Orlando Magic, 금액=91980866\n",
            "가장 낮은 총 연봉: 팀=Brooklyn Nets, 금액=4501200\n",
            "\n",
            "Season 2007:\n",
            "가장 높은 총 연봉: 팀=Indiana Pacers, 금액=81585398\n",
            "가장 낮은 총 연봉: 팀=Oklahoma City Thunder, 금액=664209\n",
            "\n",
            "Season 2008:\n",
            "가장 높은 총 연봉: 팀=Phoenix Suns, 금액=91843875\n",
            "가장 낮은 총 연봉: 팀=Madrid Real Madrid, 금액=1511243\n",
            "\n",
            "Season 2009:\n",
            "가장 높은 총 연봉: 팀=Boston Celtics, 금액=100827179\n",
            "가장 낮은 총 연봉: 팀=null Unknown, 금액=3536912\n",
            "\n",
            "Season 2010:\n",
            "가장 높은 총 연봉: 팀=Washington Wizards, 금액=94737087\n",
            "가장 낮은 총 연봉: 팀=null Unknown, 금액=592281\n",
            "\n",
            "Season 2011:\n",
            "가장 높은 총 연봉: 팀=Phoenix Suns, 금액=97261315\n",
            "가장 낮은 총 연봉: 팀=Madrid Real Madrid, 금액=736420\n",
            "\n",
            "Season 2012:\n",
            "가장 높은 총 연봉: 팀=Philadelphia 76ers, 금액=96578947\n",
            "가장 낮은 총 연봉: 팀=Madrid Real Madrid, 금액=736420\n",
            "\n",
            "Season 2013:\n",
            "가장 높은 총 연봉: 팀=Miami Heat, 금액=103799977\n",
            "가장 낮은 총 연봉: 팀=Fenerbahce Ulker Fenerbahce Ulker, 금액=3447380\n",
            "\n",
            "Season 2014:\n",
            "가장 높은 총 연봉: 팀=Brooklyn Nets, 금액=100342826\n",
            "가장 낮은 총 연봉: 팀=Orlando Magic, 금액=20568125\n",
            "\n",
            "Season 2015:\n",
            "가장 높은 총 연봉: 팀=Brooklyn Nets, 금액=103134468\n",
            "가장 낮은 총 연봉: 팀=Maccabi Haifa Maccabi Haifa, 금액=816482\n",
            "\n",
            "Season 2016:\n",
            "가장 높은 총 연봉: 팀=Cleveland Cavaliers, 금액=104254519\n",
            "가장 낮은 총 연봉: 팀=Philadelphia 76ers, 금액=44886505\n",
            "\n",
            "Season 2017:\n",
            "가장 높은 총 연봉: 팀=Cleveland Cavaliers, 금액=133411547\n",
            "가장 낮은 총 연봉: 팀=Brooklyn Nets, 금액=72562117\n",
            "\n",
            "Season 2018:\n",
            "가장 높은 총 연봉: 팀=LA Clippers, 금액=161175002\n",
            "가장 낮은 총 연봉: 팀=Maccabi Haifa Maccabi Haifa, 금액=2286997\n",
            "\n",
            "Season 2019:\n",
            "가장 높은 총 연봉: 팀=Memphis Grizzlies, 금액=167050134\n",
            "가장 낮은 총 연봉: 팀=Dallas Mavericks, 금액=50687348\n",
            "\n",
            "Season 2020:\n",
            "가장 높은 총 연봉: 팀=Minnesota Timberwolves, 금액=174907550\n",
            "가장 낮은 총 연봉: 팀=Atlanta Hawks, 금액=80573776\n"
          ]
        }
      ]
    }
  ]
}